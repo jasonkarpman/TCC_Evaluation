{
 "cells": [
  {
   "cell_type": "markdown",
   "metadata": {},
   "source": [
    "# Difference in Differences analysis for TCC Craigslist rent data\n",
    "\n"
   ]
  },
  {
   "cell_type": "code",
   "execution_count": 1,
   "metadata": {},
   "outputs": [],
   "source": [
    "import pandas as pd\n",
    "import numpy as np\n",
    "import geopandas as gpd\n",
    "\n",
    "import statsmodels.api as sm\n",
    "import statsmodels.formula.api as smf"
   ]
  },
  {
   "cell_type": "code",
   "execution_count": 2,
   "metadata": {},
   "outputs": [],
   "source": [
    "fres_listings_20 = gpd.read_file('craigslist_data/2020/fresno_listings.geojson')\n",
    "ont_listings_20 = gpd.read_file('craigslist_data/2020/ontario_listings.geojson')\n",
    "la_listings_20 = gpd.read_file('craigslist_data/2020/la_listings.geojson')"
   ]
  },
  {
   "cell_type": "code",
   "execution_count": 3,
   "metadata": {},
   "outputs": [],
   "source": [
    "fres_tracts = gpd.read_file('craigslist_data/tracts/fresno_tracts.geojson')\n",
    "la_tracts = gpd.read_file('craigslist_data/tracts/la_tracts.geojson')\n",
    "ont_tracts = gpd.read_file('craigslist_data/tracts/ontario_tracts.geojson')"
   ]
  },
  {
   "cell_type": "code",
   "execution_count": 4,
   "metadata": {},
   "outputs": [],
   "source": [
    "def read_2014_data(city, tracts_gdf):\n",
    "    \n",
    "    def join_to_tracts(listing_gdf, tracts_gdf):\n",
    "        sjoined_gdf = gpd.sjoin(listing_gdf, tracts_gdf, how='left', op='within')\n",
    "        sjoined_gdf = (\n",
    "                        #drop listings not in TCC nor control group\n",
    "                        sjoined_gdf.dropna(subset=['group'])\n",
    "                        #.rename(columns={'index_right': 'tract_id'})\n",
    "                        .drop(columns='BASENAME')\n",
    "                        )\n",
    "        return sjoined_gdf\n",
    "    \n",
    "    assert city in ['la', 'ontario', 'fresno']\n",
    "    subset = {'la':'losangeles', 'ontario':'inlandempire', 'fresno':'fresno'}\n",
    "    rent_2014 = pd.read_csv(f'craigslist_data/2014/subset_{subset[city]}.csv')\n",
    "    rent_2014 = rent_2014.drop_duplicates(subset=['rent', 'sqft', 'date'])\n",
    "    rent_2014 = gpd.GeoDataFrame(\n",
    "        rent_2014, geometry=gpd.points_from_xy(\n",
    "            rent_2014['longitude'].astype('float64'), rent_2014['latitude'].astype('float64')))\n",
    "    rent_2014 = rent_2014.dropna(subset=['rent'])\n",
    "    rent_2014.crs = 'EPSG:4326'\n",
    "    \n",
    "    #add variable for DiD analysis\n",
    "    rent_2014['time'] = 0\n",
    "    joined_2014 = join_to_tracts(rent_2014, tracts_gdf)\n",
    "    return joined_2014"
   ]
  },
  {
   "cell_type": "code",
   "execution_count": 5,
   "metadata": {},
   "outputs": [],
   "source": [
    "fres_14 = read_2014_data('fresno', fres_tracts)"
   ]
  },
  {
   "cell_type": "code",
   "execution_count": 6,
   "metadata": {},
   "outputs": [],
   "source": [
    "ont_14 = read_2014_data('ontario', ont_tracts)"
   ]
  },
  {
   "cell_type": "code",
   "execution_count": 7,
   "metadata": {},
   "outputs": [],
   "source": [
    "la_14 = read_2014_data('la', la_tracts)"
   ]
  },
  {
   "cell_type": "code",
   "execution_count": 53,
   "metadata": {},
   "outputs": [],
   "source": [
    "def join_prepare_data(listings_14, listings_20, tracts_gdf):\n",
    "\n",
    "    listings_20 = listings_20.rename(columns={'index_right':'geoid'})\n",
    "    all_listings = listings_14.append(listings_20)\n",
    "    all_listings['post_treatment'] = all_listings['time'] * all_listings['group']\n",
    "    all_listings['rent_sqft'] = all_listings['rent'] / all_listings['sqft']\n",
    "    \n",
    "    def remove_outliers(listing_gdf, quantiles):\n",
    "        listing_gdf = listing_gdf.loc[listing_gdf['rent_sqft'] > listing_gdf['rent_sqft'].quantile(quantiles[0])]\n",
    "        listing_gdf = listing_gdf.loc[listing_gdf['rent_sqft'] < listing_gdf['rent_sqft'].quantile(quantiles[1])]\n",
    "        return listing_gdf\n",
    "\n",
    "    all_listings = remove_outliers(all_listings, (.02, .98))\n",
    "    #creates df with median of each statistic (rent_sqft) and a row for each tract at each time\n",
    "    for_did = (all_listings.groupby(['geoid', 'time'])\n",
    "               .median().reset_index()\n",
    "               .drop(columns=['index_right', 'index']))\n",
    "    \n",
    "    return for_did"
   ]
  },
  {
   "cell_type": "code",
   "execution_count": 68,
   "metadata": {},
   "outputs": [],
   "source": [
    "def estimate_did(df, model='single'):\n",
    "\n",
    "    # choose a response and predictors\n",
    "    response = 'rent_sqft'\n",
    "    predictors = ['time', 'group', 'post_treatment']\n",
    "    if model == 'pooled':\n",
    "        predictors = predictors + ['is_fresno', 'is_ontario', 'is_la']\n",
    "\n",
    "\n",
    "    # filter full dataset to retain only these columns and only rows without nulls in these columns\n",
    "    data = df[[response] +  predictors].dropna()\n",
    "\n",
    "    # create design matrix and response vector\n",
    "    X = data[predictors]\n",
    "    y = data[response]\n",
    "\n",
    "    # estimate a simple linear regression model with OLS, using statsmodels\n",
    "    model = sm.OLS(y, sm.add_constant(X))\n",
    "    result = model.fit()\n",
    "    print(result.summary())"
   ]
  },
  {
   "cell_type": "code",
   "execution_count": 76,
   "metadata": {},
   "outputs": [
    {
     "data": {
      "text/html": [
       "<div>\n",
       "<style scoped>\n",
       "    .dataframe tbody tr th:only-of-type {\n",
       "        vertical-align: middle;\n",
       "    }\n",
       "\n",
       "    .dataframe tbody tr th {\n",
       "        vertical-align: top;\n",
       "    }\n",
       "\n",
       "    .dataframe thead th {\n",
       "        text-align: right;\n",
       "    }\n",
       "</style>\n",
       "<table border=\"1\" class=\"dataframe\">\n",
       "  <thead>\n",
       "    <tr style=\"text-align: right;\">\n",
       "      <th></th>\n",
       "      <th>geoid</th>\n",
       "      <th>time</th>\n",
       "      <th>rent</th>\n",
       "      <th>sqft</th>\n",
       "      <th>group</th>\n",
       "      <th>post_treatment</th>\n",
       "      <th>rent_sqft</th>\n",
       "    </tr>\n",
       "  </thead>\n",
       "  <tbody>\n",
       "    <tr>\n",
       "      <th>0</th>\n",
       "      <td>06019000100</td>\n",
       "      <td>0</td>\n",
       "      <td>975.0</td>\n",
       "      <td>745.0</td>\n",
       "      <td>1.0</td>\n",
       "      <td>0.0</td>\n",
       "      <td>1.073077</td>\n",
       "    </tr>\n",
       "    <tr>\n",
       "      <th>1</th>\n",
       "      <td>06019000100</td>\n",
       "      <td>1</td>\n",
       "      <td>1150.0</td>\n",
       "      <td>738.0</td>\n",
       "      <td>1.0</td>\n",
       "      <td>1.0</td>\n",
       "      <td>1.558266</td>\n",
       "    </tr>\n",
       "    <tr>\n",
       "      <th>2</th>\n",
       "      <td>06019000200</td>\n",
       "      <td>0</td>\n",
       "      <td>750.0</td>\n",
       "      <td>1000.0</td>\n",
       "      <td>1.0</td>\n",
       "      <td>0.0</td>\n",
       "      <td>0.766000</td>\n",
       "    </tr>\n",
       "    <tr>\n",
       "      <th>3</th>\n",
       "      <td>06019000200</td>\n",
       "      <td>1</td>\n",
       "      <td>1000.0</td>\n",
       "      <td>632.0</td>\n",
       "      <td>1.0</td>\n",
       "      <td>1.0</td>\n",
       "      <td>1.582278</td>\n",
       "    </tr>\n",
       "    <tr>\n",
       "      <th>4</th>\n",
       "      <td>06019000300</td>\n",
       "      <td>0</td>\n",
       "      <td>650.0</td>\n",
       "      <td>750.0</td>\n",
       "      <td>1.0</td>\n",
       "      <td>0.0</td>\n",
       "      <td>0.866667</td>\n",
       "    </tr>\n",
       "    <tr>\n",
       "      <th>5</th>\n",
       "      <td>06019000300</td>\n",
       "      <td>1</td>\n",
       "      <td>850.0</td>\n",
       "      <td>890.0</td>\n",
       "      <td>1.0</td>\n",
       "      <td>1.0</td>\n",
       "      <td>0.955056</td>\n",
       "    </tr>\n",
       "    <tr>\n",
       "      <th>6</th>\n",
       "      <td>06019000400</td>\n",
       "      <td>0</td>\n",
       "      <td>750.0</td>\n",
       "      <td>912.0</td>\n",
       "      <td>1.0</td>\n",
       "      <td>0.0</td>\n",
       "      <td>0.822368</td>\n",
       "    </tr>\n",
       "    <tr>\n",
       "      <th>7</th>\n",
       "      <td>06019000400</td>\n",
       "      <td>1</td>\n",
       "      <td>785.0</td>\n",
       "      <td>768.0</td>\n",
       "      <td>1.0</td>\n",
       "      <td>1.0</td>\n",
       "      <td>1.022135</td>\n",
       "    </tr>\n",
       "    <tr>\n",
       "      <th>8</th>\n",
       "      <td>06019000600</td>\n",
       "      <td>0</td>\n",
       "      <td>800.0</td>\n",
       "      <td>900.0</td>\n",
       "      <td>1.0</td>\n",
       "      <td>0.0</td>\n",
       "      <td>0.866667</td>\n",
       "    </tr>\n",
       "    <tr>\n",
       "      <th>9</th>\n",
       "      <td>06019000600</td>\n",
       "      <td>1</td>\n",
       "      <td>1150.0</td>\n",
       "      <td>717.0</td>\n",
       "      <td>1.0</td>\n",
       "      <td>1.0</td>\n",
       "      <td>1.494169</td>\n",
       "    </tr>\n",
       "    <tr>\n",
       "      <th>10</th>\n",
       "      <td>06019000700</td>\n",
       "      <td>0</td>\n",
       "      <td>750.0</td>\n",
       "      <td>1022.0</td>\n",
       "      <td>1.0</td>\n",
       "      <td>0.0</td>\n",
       "      <td>0.733855</td>\n",
       "    </tr>\n",
       "    <tr>\n",
       "      <th>11</th>\n",
       "      <td>06019000901</td>\n",
       "      <td>0</td>\n",
       "      <td>750.0</td>\n",
       "      <td>1317.0</td>\n",
       "      <td>1.0</td>\n",
       "      <td>0.0</td>\n",
       "      <td>0.569476</td>\n",
       "    </tr>\n",
       "    <tr>\n",
       "      <th>12</th>\n",
       "      <td>06019001000</td>\n",
       "      <td>0</td>\n",
       "      <td>900.0</td>\n",
       "      <td>1112.0</td>\n",
       "      <td>1.0</td>\n",
       "      <td>0.0</td>\n",
       "      <td>0.809353</td>\n",
       "    </tr>\n",
       "    <tr>\n",
       "      <th>13</th>\n",
       "      <td>06019001100</td>\n",
       "      <td>1</td>\n",
       "      <td>1025.0</td>\n",
       "      <td>980.0</td>\n",
       "      <td>1.0</td>\n",
       "      <td>1.0</td>\n",
       "      <td>1.045918</td>\n",
       "    </tr>\n",
       "    <tr>\n",
       "      <th>14</th>\n",
       "      <td>06019001202</td>\n",
       "      <td>0</td>\n",
       "      <td>945.0</td>\n",
       "      <td>1436.5</td>\n",
       "      <td>0.0</td>\n",
       "      <td>0.0</td>\n",
       "      <td>0.691364</td>\n",
       "    </tr>\n",
       "  </tbody>\n",
       "</table>\n",
       "</div>"
      ],
      "text/plain": [
       "          geoid  time    rent    sqft  group  post_treatment  rent_sqft\n",
       "0   06019000100     0   975.0   745.0    1.0             0.0   1.073077\n",
       "1   06019000100     1  1150.0   738.0    1.0             1.0   1.558266\n",
       "2   06019000200     0   750.0  1000.0    1.0             0.0   0.766000\n",
       "3   06019000200     1  1000.0   632.0    1.0             1.0   1.582278\n",
       "4   06019000300     0   650.0   750.0    1.0             0.0   0.866667\n",
       "5   06019000300     1   850.0   890.0    1.0             1.0   0.955056\n",
       "6   06019000400     0   750.0   912.0    1.0             0.0   0.822368\n",
       "7   06019000400     1   785.0   768.0    1.0             1.0   1.022135\n",
       "8   06019000600     0   800.0   900.0    1.0             0.0   0.866667\n",
       "9   06019000600     1  1150.0   717.0    1.0             1.0   1.494169\n",
       "10  06019000700     0   750.0  1022.0    1.0             0.0   0.733855\n",
       "11  06019000901     0   750.0  1317.0    1.0             0.0   0.569476\n",
       "12  06019001000     0   900.0  1112.0    1.0             0.0   0.809353\n",
       "13  06019001100     1  1025.0   980.0    1.0             1.0   1.045918\n",
       "14  06019001202     0   945.0  1436.5    0.0             0.0   0.691364"
      ]
     },
     "execution_count": 76,
     "metadata": {},
     "output_type": "execute_result"
    }
   ],
   "source": [
    "##Example data for DiD regression\n",
    "join_prepare_data(fres_14, fres_listings_20, fres_tracts).head(15)"
   ]
  },
  {
   "cell_type": "markdown",
   "metadata": {},
   "source": [
    "### Fresno"
   ]
  },
  {
   "cell_type": "code",
   "execution_count": 69,
   "metadata": {},
   "outputs": [
    {
     "name": "stdout",
     "output_type": "stream",
     "text": [
      "                            OLS Regression Results                            \n",
      "==============================================================================\n",
      "Dep. Variable:              rent_sqft   R-squared:                       0.699\n",
      "Model:                            OLS   Adj. R-squared:                  0.668\n",
      "Method:                 Least Squares   F-statistic:                     22.47\n",
      "Date:                Tue, 11 Aug 2020   Prob (F-statistic):           1.02e-07\n",
      "Time:                        10:59:19   Log-Likelihood:                 15.251\n",
      "No. Observations:                  33   AIC:                            -22.50\n",
      "Df Residuals:                      29   BIC:                            -16.52\n",
      "Df Model:                           3                                         \n",
      "Covariance Type:            nonrobust                                         \n",
      "==================================================================================\n",
      "                     coef    std err          t      P>|t|      [0.025      0.975]\n",
      "----------------------------------------------------------------------------------\n",
      "const              0.7606      0.051     14.793      0.000       0.655       0.866\n",
      "time               0.4688      0.075      6.275      0.000       0.316       0.622\n",
      "group              0.0528      0.077      0.684      0.499      -0.105       0.211\n",
      "post_treatment    -0.0059      0.115     -0.052      0.959      -0.242       0.230\n",
      "==============================================================================\n",
      "Omnibus:                        0.164   Durbin-Watson:                   1.746\n",
      "Prob(Omnibus):                  0.921   Jarque-Bera (JB):                0.117\n",
      "Skew:                          -0.119   Prob(JB):                        0.943\n",
      "Kurtosis:                       2.832   Cond. No.                         6.24\n",
      "==============================================================================\n",
      "\n",
      "Warnings:\n",
      "[1] Standard Errors assume that the covariance matrix of the errors is correctly specified.\n"
     ]
    }
   ],
   "source": [
    "estimate_did(join_prepare_data(fres_14, fres_listings_20, fres_tracts))"
   ]
  },
  {
   "cell_type": "markdown",
   "metadata": {},
   "source": [
    "### Ontario"
   ]
  },
  {
   "cell_type": "code",
   "execution_count": 70,
   "metadata": {},
   "outputs": [
    {
     "name": "stdout",
     "output_type": "stream",
     "text": [
      "                            OLS Regression Results                            \n",
      "==============================================================================\n",
      "Dep. Variable:              rent_sqft   R-squared:                       0.446\n",
      "Model:                            OLS   Adj. R-squared:                  0.419\n",
      "Method:                 Least Squares   F-statistic:                     16.64\n",
      "Date:                Tue, 11 Aug 2020   Prob (F-statistic):           4.85e-08\n",
      "Time:                        10:59:20   Log-Likelihood:                -14.252\n",
      "No. Observations:                  66   AIC:                             36.50\n",
      "Df Residuals:                      62   BIC:                             45.26\n",
      "Df Model:                           3                                         \n",
      "Covariance Type:            nonrobust                                         \n",
      "==================================================================================\n",
      "                     coef    std err          t      P>|t|      [0.025      0.975]\n",
      "----------------------------------------------------------------------------------\n",
      "const              1.1679      0.062     18.848      0.000       1.044       1.292\n",
      "time               0.5452      0.088      6.222      0.000       0.370       0.720\n",
      "group              0.0497      0.126      0.395      0.694      -0.202       0.301\n",
      "post_treatment    -0.0303      0.178     -0.170      0.865      -0.386       0.326\n",
      "==============================================================================\n",
      "Omnibus:                        0.390   Durbin-Watson:                   1.430\n",
      "Prob(Omnibus):                  0.823   Jarque-Bera (JB):                0.506\n",
      "Skew:                          -0.165   Prob(JB):                        0.776\n",
      "Kurtosis:                       2.726   Cond. No.                         6.54\n",
      "==============================================================================\n",
      "\n",
      "Warnings:\n",
      "[1] Standard Errors assume that the covariance matrix of the errors is correctly specified.\n"
     ]
    }
   ],
   "source": [
    "estimate_did(join_prepare_data(ont_14, ont_listings_20, ont_tracts))"
   ]
  },
  {
   "cell_type": "markdown",
   "metadata": {},
   "source": [
    "### LA"
   ]
  },
  {
   "cell_type": "code",
   "execution_count": 71,
   "metadata": {},
   "outputs": [
    {
     "name": "stdout",
     "output_type": "stream",
     "text": [
      "                            OLS Regression Results                            \n",
      "==============================================================================\n",
      "Dep. Variable:              rent_sqft   R-squared:                       0.304\n",
      "Model:                            OLS   Adj. R-squared:                  0.272\n",
      "Method:                 Least Squares   F-statistic:                     9.601\n",
      "Date:                Tue, 11 Aug 2020   Prob (F-statistic):           2.41e-05\n",
      "Time:                        10:59:21   Log-Likelihood:                -74.856\n",
      "No. Observations:                  70   AIC:                             157.7\n",
      "Df Residuals:                      66   BIC:                             166.7\n",
      "Df Model:                           3                                         \n",
      "Covariance Type:            nonrobust                                         \n",
      "==================================================================================\n",
      "                     coef    std err          t      P>|t|      [0.025      0.975]\n",
      "----------------------------------------------------------------------------------\n",
      "const              1.4840      0.130     11.380      0.000       1.224       1.744\n",
      "time               0.9054      0.189      4.783      0.000       0.527       1.283\n",
      "group             -0.3556      0.350     -1.016      0.313      -1.054       0.343\n",
      "post_treatment     0.0451      0.479      0.094      0.925      -0.911       1.001\n",
      "==============================================================================\n",
      "Omnibus:                       43.648   Durbin-Watson:                   2.005\n",
      "Prob(Omnibus):                  0.000   Jarque-Bera (JB):              225.028\n",
      "Skew:                           1.662   Prob(JB):                     1.37e-49\n",
      "Kurtosis:                      11.130   Cond. No.                         7.49\n",
      "==============================================================================\n",
      "\n",
      "Warnings:\n",
      "[1] Standard Errors assume that the covariance matrix of the errors is correctly specified.\n"
     ]
    }
   ],
   "source": [
    "estimate_did(join_prepare_data(la_14, la_listings_20, la_tracts))"
   ]
  },
  {
   "cell_type": "markdown",
   "metadata": {},
   "source": [
    "### Pooled Model"
   ]
  },
  {
   "cell_type": "code",
   "execution_count": 73,
   "metadata": {},
   "outputs": [],
   "source": [
    "fres_for_did = join_prepare_data(fres_14, fres_listings_20, fres_tracts)\n",
    "fres_for_did['is_fresno'] = 1\n",
    "fres_for_did['is_la'] = 0\n",
    "fres_for_did['is_ontario'] = 0\n",
    "ont_for_did = join_prepare_data(ont_14, ont_listings_20, ont_tracts)\n",
    "ont_for_did['is_fresno'] = 0\n",
    "ont_for_did['is_la'] = 0\n",
    "ont_for_did['is_ontario'] = 1\n",
    "la_for_did = join_prepare_data(la_14, la_listings_20, ont_tracts)\n",
    "la_for_did['is_fresno'] = 0\n",
    "la_for_did['is_la'] = 1\n",
    "la_for_did['is_ontario'] = 0\n",
    "\n",
    "together_for_did = fres_for_did.append(ont_for_did).append(la_for_did)"
   ]
  },
  {
   "cell_type": "code",
   "execution_count": 74,
   "metadata": {},
   "outputs": [
    {
     "name": "stdout",
     "output_type": "stream",
     "text": [
      "                            OLS Regression Results                            \n",
      "==============================================================================\n",
      "Dep. Variable:              rent_sqft   R-squared:                       0.460\n",
      "Model:                            OLS   Adj. R-squared:                  0.443\n",
      "Method:                 Least Squares   F-statistic:                     27.77\n",
      "Date:                Tue, 11 Aug 2020   Prob (F-statistic):           2.79e-20\n",
      "Time:                        10:59:32   Log-Likelihood:                -125.91\n",
      "No. Observations:                 169   AIC:                             263.8\n",
      "Df Residuals:                     163   BIC:                             282.6\n",
      "Df Model:                           5                                         \n",
      "Covariance Type:            nonrobust                                         \n",
      "==================================================================================\n",
      "                     coef    std err          t      P>|t|      [0.025      0.975]\n",
      "----------------------------------------------------------------------------------\n",
      "const              0.8410      0.050     16.809      0.000       0.742       0.940\n",
      "time               0.6988      0.092      7.610      0.000       0.517       0.880\n",
      "group             -0.0186      0.133     -0.140      0.889      -0.280       0.243\n",
      "post_treatment    -0.1015      0.187     -0.544      0.587      -0.470       0.267\n",
      "is_fresno         -0.1373      0.075     -1.826      0.070      -0.286       0.011\n",
      "is_ontario         0.2753      0.057      4.859      0.000       0.163       0.387\n",
      "is_la              0.7030      0.055     12.698      0.000       0.594       0.812\n",
      "==============================================================================\n",
      "Omnibus:                      115.059   Durbin-Watson:                   1.941\n",
      "Prob(Omnibus):                  0.000   Jarque-Bera (JB):             1970.558\n",
      "Skew:                           2.131   Prob(JB):                         0.00\n",
      "Kurtosis:                      19.177   Cond. No.                     8.67e+15\n",
      "==============================================================================\n",
      "\n",
      "Warnings:\n",
      "[1] Standard Errors assume that the covariance matrix of the errors is correctly specified.\n",
      "[2] The smallest eigenvalue is 3.89e-30. This might indicate that there are\n",
      "strong multicollinearity problems or that the design matrix is singular.\n"
     ]
    }
   ],
   "source": [
    "estimate_did(together_for_did, model='pooled')"
   ]
  },
  {
   "cell_type": "markdown",
   "metadata": {},
   "source": [
    "### Some quick bar charts of the number of listings in each group in 2014 and 2020"
   ]
  },
  {
   "cell_type": "code",
   "execution_count": 13,
   "metadata": {},
   "outputs": [],
   "source": [
    "def listings_table(df_14, df_20):\n",
    "    num_listings = df_14.append(df_20).groupby(['time', 'group']).count().iloc[:,1]\n",
    "    df = pd.DataFrame(num_listings).reset_index().rename(columns={'rent':'num_listings'})\n",
    "    times = {0:'2014', 1:'2020'}\n",
    "    groups = {0:'control_', 1:'tcc_'}\n",
    "    df['label'] = df.apply(lambda x: groups[x['group']] + times[x.time], axis=1)\n",
    "    return df"
   ]
  },
  {
   "cell_type": "code",
   "execution_count": 14,
   "metadata": {},
   "outputs": [
    {
     "data": {
      "image/png": "[encoded data removed]",
      "text/plain": [
       "<Figure size 432x288 with 1 Axes>"
      ]
     },
     "metadata": {
      "needs_background": "light"
     },
     "output_type": "display_data"
    }
   ],
   "source": [
    "listings_table(fres_14, fres_listings_20).plot.bar('label', 'num_listings');"
   ]
  },
  {
   "cell_type": "code",
   "execution_count": 15,
   "metadata": {},
   "outputs": [
    {
     "data": {
      "image/png": "[encoded data removed]",
      "text/plain": [
       "<Figure size 432x288 with 1 Axes>"
      ]
     },
     "metadata": {
      "needs_background": "light"
     },
     "output_type": "display_data"
    }
   ],
   "source": [
    "listings_table(ont_14, ont_listings_20).plot.bar('label', 'num_listings');"
   ]
  },
  {
   "cell_type": "code",
   "execution_count": 16,
   "metadata": {},
   "outputs": [
    {
     "data": {
      "image/png": "[encoded data removed]",
      "text/plain": [
       "<Figure size 432x288 with 1 Axes>"
      ]
     },
     "metadata": {
      "needs_background": "light"
     },
     "output_type": "display_data"
    }
   ],
   "source": [
    "listings_table(la_14, la_listings_20).plot.bar('label', 'num_listings');"
   ]
  },
  {
   "cell_type": "markdown",
   "metadata": {},
   "source": [
    "### Rough histograms showing distribution of bedrooms by year"
   ]
  },
  {
   "cell_type": "code",
   "execution_count": 24,
   "metadata": {},
   "outputs": [
    {
     "data": {
      "text/plain": [
       "<matplotlib.axes._subplots.AxesSubplot at 0x10b4afd90>"
      ]
     },
     "execution_count": 24,
     "metadata": {},
     "output_type": "execute_result"
    },
    {
     "data": {
      "image/png": "[encoded data removed]",
      "text/plain": [
       "<Figure size 432x288 with 1 Axes>"
      ]
     },
     "metadata": {
      "needs_background": "light"
     },
     "output_type": "display_data"
    }
   ],
   "source": [
    "la_14['bedrooms'].hist()"
   ]
  },
  {
   "cell_type": "code",
   "execution_count": 27,
   "metadata": {},
   "outputs": [
    {
     "data": {
      "text/plain": [
       "<matplotlib.axes._subplots.AxesSubplot at 0x1450604c0>"
      ]
     },
     "execution_count": 27,
     "metadata": {},
     "output_type": "execute_result"
    },
    {
     "data": {
      "image/png": "[encoded data removed]",
      "text/plain": [
       "<Figure size 432x288 with 1 Axes>"
      ]
     },
     "metadata": {
      "needs_background": "light"
     },
     "output_type": "display_data"
    }
   ],
   "source": [
    "la_listings_20['bedrooms'].astype('float32').hist()"
   ]
  },
  {
   "cell_type": "code",
   "execution_count": 28,
   "metadata": {},
   "outputs": [
    {
     "data": {
      "text/plain": [
       "<matplotlib.axes._subplots.AxesSubplot at 0x145e66910>"
      ]
     },
     "execution_count": 28,
     "metadata": {},
     "output_type": "execute_result"
    },
    {
     "data": {
      "image/png": "[encoded data removed]",
      "text/plain": [
       "<Figure size 432x288 with 1 Axes>"
      ]
     },
     "metadata": {
      "needs_background": "light"
     },
     "output_type": "display_data"
    }
   ],
   "source": [
    "fres_14['bedrooms'].hist()"
   ]
  },
  {
   "cell_type": "code",
   "execution_count": 32,
   "metadata": {},
   "outputs": [
    {
     "data": {
      "text/plain": [
       "<matplotlib.axes._subplots.AxesSubplot at 0x145077be0>"
      ]
     },
     "execution_count": 32,
     "metadata": {},
     "output_type": "execute_result"
    },
    {
     "data": {
      "image/png": "[encoded data removed]",
      "text/plain": [
       "<Figure size 432x288 with 1 Axes>"
      ]
     },
     "metadata": {
      "needs_background": "light"
     },
     "output_type": "display_data"
    }
   ],
   "source": [
    "fres_listings_20['bedrooms'].astype('float32').hist()"
   ]
  },
  {
   "cell_type": "code",
   "execution_count": 36,
   "metadata": {},
   "outputs": [
    {
     "data": {
      "text/plain": [
       "<matplotlib.axes._subplots.AxesSubplot at 0x1490dc160>"
      ]
     },
     "execution_count": 36,
     "metadata": {},
     "output_type": "execute_result"
    },
    {
     "data": {
      "image/png": "[encoded data removed]",
      "text/plain": [
       "<Figure size 432x288 with 1 Axes>"
      ]
     },
     "metadata": {
      "needs_background": "light"
     },
     "output_type": "display_data"
    }
   ],
   "source": [
    "ont_14['bedrooms'].hist()"
   ]
  },
  {
   "cell_type": "code",
   "execution_count": 34,
   "metadata": {},
   "outputs": [
    {
     "data": {
      "text/plain": [
       "<matplotlib.axes._subplots.AxesSubplot at 0x14510ce80>"
      ]
     },
     "execution_count": 34,
     "metadata": {},
     "output_type": "execute_result"
    },
    {
     "data": {
      "image/png": "[encoded data removed]",
      "text/plain": [
       "<Figure size 432x288 with 1 Axes>"
      ]
     },
     "metadata": {
      "needs_background": "light"
     },
     "output_type": "display_data"
    }
   ],
   "source": [
    "ont_listings_20['bedrooms'].astype('float32').hist()"
   ]
  }
 ],
 "metadata": {
  "kernelspec": {
   "display_name": "Python 3",
   "language": "python",
   "name": "python3"
  },
  "language_info": {
   "codemirror_mode": {
    "name": "ipython",
    "version": 3
   },
   "file_extension": ".py",
   "mimetype": "text/x-python",
   "name": "python",
   "nbconvert_exporter": "python",
   "pygments_lexer": "ipython3",
   "version": "3.8.5"
  }
 },
 "nbformat": 4,
 "nbformat_minor": 4
}
