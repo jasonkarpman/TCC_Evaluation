{
 "cells": [
  {
   "cell_type": "markdown",
   "metadata": {},
   "source": [
    "# Difference-in-differences demo\n",
    "\n",
    "This example assumes you have 80 census tracts: 40 in a control group and 40 in a treatment group. For each tract you have calculated median rent/sqft at two time points: pre-treatment (2014) and post-treatment (2020). I assign random values to generate data accordingly."
   ]
  },
  {
   "cell_type": "code",
   "execution_count": 1,
   "metadata": {},
   "outputs": [],
   "source": [
    "import numpy as np\n",
    "import pandas as pd\n",
    "import statsmodels.api as sm\n",
    "np.random.seed(0) #for recomputability"
   ]
  },
  {
   "cell_type": "markdown",
   "metadata": {},
   "source": [
    "## Set up fake random observations\n",
    "\n",
    "Let's say there are 40 tracts each in treatment and control."
   ]
  },
  {
   "cell_type": "code",
   "execution_count": 2,
   "metadata": {},
   "outputs": [],
   "source": [
    "n = 40\n",
    "tract_ids = np.arange(n * 2)\n",
    "treat_tract_ids = tract_ids[:n]\n",
    "cntrl_tract_ids = tract_ids[n:]"
   ]
  },
  {
   "cell_type": "code",
   "execution_count": 3,
   "metadata": {},
   "outputs": [],
   "source": [
    "# random data across 4 groups: treatment/control and pre/post event\n",
    "treat_pre = np.random.normal(loc=1.2, scale=0.2, size=n)\n",
    "treat_pst = np.random.normal(loc=2.0, scale=0.2, size=n)\n",
    "cntrl_pre = np.random.normal(loc=1.0, scale=0.2, size=n)\n",
    "cntrl_pst = np.random.normal(loc=1.5, scale=0.2, size=n)"
   ]
  },
  {
   "cell_type": "markdown",
   "metadata": {},
   "source": [
    "## Assemble dataset from the observations\n",
    "\n",
    "Let `time` = 0 if 2014 and 1 if 2020.\n",
    "\n",
    "Let `group` = 0 if control and 1 if treatment."
   ]
  },
  {
   "cell_type": "code",
   "execution_count": 4,
   "metadata": {},
   "outputs": [],
   "source": [
    "df_treat_pre = pd.DataFrame(data={'tract_id': treat_tract_ids,\n",
    "                                  'tract_median_rent_sqft': treat_pre,\n",
    "                                  'time': 0,\n",
    "                                  'group': 1})\n",
    "df_treat_pst = pd.DataFrame(data={'tract_id': treat_tract_ids,\n",
    "                                  'tract_median_rent_sqft': treat_pst,\n",
    "                                  'time': 1,\n",
    "                                  'group': 1})\n",
    "df_cntrl_pre = pd.DataFrame(data={'tract_id': cntrl_tract_ids,\n",
    "                                  'tract_median_rent_sqft': cntrl_pre,\n",
    "                                  'time': 0,\n",
    "                                  'group': 0})\n",
    "df_cntrl_pst = pd.DataFrame(data={'tract_id': cntrl_tract_ids,\n",
    "                                  'tract_median_rent_sqft': cntrl_pst,\n",
    "                                  'time': 1,\n",
    "                                  'group': 0})\n",
    "df = pd.concat([df_treat_pre, df_treat_pst, df_cntrl_pre, df_cntrl_pst]).reset_index(drop=True)"
   ]
  },
  {
   "cell_type": "code",
   "execution_count": 5,
   "metadata": {},
   "outputs": [],
   "source": [
    "# create our key dummy variable: 1 if is treatment group AND post event, otherwise 0\n",
    "df['post_treatment'] = df['time'] * df['group']\n",
    "\n",
    "# add a couple random covariates\n",
    "df['num_bedrooms'] = np.random.normal(loc=2, scale=0.3, size=len(df))\n",
    "df['dist_to_transit'] = np.random.normal(loc=500, scale=200, size=len(df))"
   ]
  },
  {
   "cell_type": "code",
   "execution_count": 6,
   "metadata": {},
   "outputs": [
    {
     "name": "stdout",
     "output_type": "stream",
     "text": [
      "(160, 7)\n"
     ]
    },
    {
     "data": {
      "text/html": [
       "<div>\n",
       "<style scoped>\n",
       "    .dataframe tbody tr th:only-of-type {\n",
       "        vertical-align: middle;\n",
       "    }\n",
       "\n",
       "    .dataframe tbody tr th {\n",
       "        vertical-align: top;\n",
       "    }\n",
       "\n",
       "    .dataframe thead th {\n",
       "        text-align: right;\n",
       "    }\n",
       "</style>\n",
       "<table border=\"1\" class=\"dataframe\">\n",
       "  <thead>\n",
       "    <tr style=\"text-align: right;\">\n",
       "      <th></th>\n",
       "      <th>tract_id</th>\n",
       "      <th>tract_median_rent_sqft</th>\n",
       "      <th>time</th>\n",
       "      <th>group</th>\n",
       "      <th>post_treatment</th>\n",
       "      <th>num_bedrooms</th>\n",
       "      <th>dist_to_transit</th>\n",
       "    </tr>\n",
       "  </thead>\n",
       "  <tbody>\n",
       "    <tr>\n",
       "      <th>74</th>\n",
       "      <td>34</td>\n",
       "      <td>2.080468</td>\n",
       "      <td>1</td>\n",
       "      <td>1</td>\n",
       "      <td>1</td>\n",
       "      <td>1.653145</td>\n",
       "      <td>441.632527</td>\n",
       "    </tr>\n",
       "    <tr>\n",
       "      <th>54</th>\n",
       "      <td>14</td>\n",
       "      <td>1.994364</td>\n",
       "      <td>1</td>\n",
       "      <td>1</td>\n",
       "      <td>1</td>\n",
       "      <td>1.716666</td>\n",
       "      <td>509.898996</td>\n",
       "    </tr>\n",
       "    <tr>\n",
       "      <th>137</th>\n",
       "      <td>57</td>\n",
       "      <td>1.458340</td>\n",
       "      <td>1</td>\n",
       "      <td>0</td>\n",
       "      <td>0</td>\n",
       "      <td>2.174886</td>\n",
       "      <td>59.711743</td>\n",
       "    </tr>\n",
       "    <tr>\n",
       "      <th>62</th>\n",
       "      <td>22</td>\n",
       "      <td>1.837371</td>\n",
       "      <td>1</td>\n",
       "      <td>1</td>\n",
       "      <td>1</td>\n",
       "      <td>1.860921</td>\n",
       "      <td>48.887154</td>\n",
       "    </tr>\n",
       "    <tr>\n",
       "      <th>147</th>\n",
       "      <td>67</td>\n",
       "      <td>1.723403</td>\n",
       "      <td>1</td>\n",
       "      <td>0</td>\n",
       "      <td>0</td>\n",
       "      <td>1.595985</td>\n",
       "      <td>341.376527</td>\n",
       "    </tr>\n",
       "    <tr>\n",
       "      <th>108</th>\n",
       "      <td>68</td>\n",
       "      <td>1.384588</td>\n",
       "      <td>0</td>\n",
       "      <td>0</td>\n",
       "      <td>0</td>\n",
       "      <td>1.906734</td>\n",
       "      <td>386.137589</td>\n",
       "    </tr>\n",
       "    <tr>\n",
       "      <th>30</th>\n",
       "      <td>30</td>\n",
       "      <td>1.230989</td>\n",
       "      <td>0</td>\n",
       "      <td>1</td>\n",
       "      <td>0</td>\n",
       "      <td>1.612143</td>\n",
       "      <td>347.171215</td>\n",
       "    </tr>\n",
       "    <tr>\n",
       "      <th>152</th>\n",
       "      <td>72</td>\n",
       "      <td>1.351049</td>\n",
       "      <td>1</td>\n",
       "      <td>0</td>\n",
       "      <td>0</td>\n",
       "      <td>1.661952</td>\n",
       "      <td>444.865893</td>\n",
       "    </tr>\n",
       "    <tr>\n",
       "      <th>138</th>\n",
       "      <td>58</td>\n",
       "      <td>1.579201</td>\n",
       "      <td>1</td>\n",
       "      <td>0</td>\n",
       "      <td>0</td>\n",
       "      <td>1.880165</td>\n",
       "      <td>539.860039</td>\n",
       "    </tr>\n",
       "    <tr>\n",
       "      <th>34</th>\n",
       "      <td>34</td>\n",
       "      <td>1.130418</td>\n",
       "      <td>0</td>\n",
       "      <td>1</td>\n",
       "      <td>0</td>\n",
       "      <td>2.156983</td>\n",
       "      <td>369.541280</td>\n",
       "    </tr>\n",
       "  </tbody>\n",
       "</table>\n",
       "</div>"
      ],
      "text/plain": [
       "     tract_id  tract_median_rent_sqft  time  group  post_treatment  \\\n",
       "74         34                2.080468     1      1               1   \n",
       "54         14                1.994364     1      1               1   \n",
       "137        57                1.458340     1      0               0   \n",
       "62         22                1.837371     1      1               1   \n",
       "147        67                1.723403     1      0               0   \n",
       "108        68                1.384588     0      0               0   \n",
       "30         30                1.230989     0      1               0   \n",
       "152        72                1.351049     1      0               0   \n",
       "138        58                1.579201     1      0               0   \n",
       "34         34                1.130418     0      1               0   \n",
       "\n",
       "     num_bedrooms  dist_to_transit  \n",
       "74       1.653145       441.632527  \n",
       "54       1.716666       509.898996  \n",
       "137      2.174886        59.711743  \n",
       "62       1.860921        48.887154  \n",
       "147      1.595985       341.376527  \n",
       "108      1.906734       386.137589  \n",
       "30       1.612143       347.171215  \n",
       "152      1.661952       444.865893  \n",
       "138      1.880165       539.860039  \n",
       "34       2.156983       369.541280  "
      ]
     },
     "execution_count": 6,
     "metadata": {},
     "output_type": "execute_result"
    }
   ],
   "source": [
    "# show a random sample of the assembled dataset\n",
    "print(df.shape)\n",
    "df.sample(10)"
   ]
  },
  {
   "cell_type": "markdown",
   "metadata": {},
   "source": [
    "## Regression analysis\n",
    "\n",
    "**The estimated DiD effect is the coefficient on the `post_treatment` variable.**"
   ]
  },
  {
   "cell_type": "code",
   "execution_count": 7,
   "metadata": {},
   "outputs": [
    {
     "name": "stdout",
     "output_type": "stream",
     "text": [
      "                              OLS Regression Results                              \n",
      "==================================================================================\n",
      "Dep. Variable:     tract_median_rent_sqft   R-squared:                       0.724\n",
      "Model:                                OLS   Adj. R-squared:                  0.719\n",
      "Method:                     Least Squares   F-statistic:                     136.7\n",
      "Date:                    Thu, 18 Jun 2020   Prob (F-statistic):           1.85e-43\n",
      "Time:                            21:28:40   Log-Likelihood:                 36.101\n",
      "No. Observations:                     160   AIC:                            -64.20\n",
      "Df Residuals:                         156   BIC:                            -51.90\n",
      "Df Model:                               3                                         \n",
      "Covariance Type:                nonrobust                                         \n",
      "==================================================================================\n",
      "                     coef    std err          t      P>|t|      [0.025      0.975]\n",
      "----------------------------------------------------------------------------------\n",
      "const              1.0918      0.031     35.310      0.000       1.031       1.153\n",
      "time               0.4116      0.044      9.412      0.000       0.325       0.498\n",
      "group              0.1707      0.044      3.904      0.000       0.084       0.257\n",
      "post_treatment     0.2512      0.062      4.062      0.000       0.129       0.373\n",
      "==============================================================================\n",
      "Omnibus:                        0.219   Durbin-Watson:                   2.156\n",
      "Prob(Omnibus):                  0.896   Jarque-Bera (JB):                0.376\n",
      "Skew:                          -0.047   Prob(JB):                        0.829\n",
      "Kurtosis:                       2.782   Cond. No.                         6.85\n",
      "==============================================================================\n",
      "\n",
      "Warnings:\n",
      "[1] Standard Errors assume that the covariance matrix of the errors is correctly specified.\n"
     ]
    }
   ],
   "source": [
    "# choose a response and predictors\n",
    "response = 'tract_median_rent_sqft'\n",
    "predictors = ['time', 'group', 'post_treatment']\n",
    "\n",
    "# filter full dataset to retain only these columns and only rows without nulls in these columns\n",
    "data = df[[response] +  predictors].dropna()\n",
    "\n",
    "# create design matrix and response vector\n",
    "X = data[predictors]\n",
    "y = data[response]\n",
    "\n",
    "# estimate a simple linear regression model with OLS, using statsmodels\n",
    "model = sm.OLS(y, sm.add_constant(X))\n",
    "result = model.fit()\n",
    "print(result.summary())"
   ]
  },
  {
   "cell_type": "code",
   "execution_count": 8,
   "metadata": {},
   "outputs": [
    {
     "data": {
      "text/plain": [
       "0.2512124249367014"
      ]
     },
     "execution_count": 8,
     "metadata": {},
     "output_type": "execute_result"
    }
   ],
   "source": [
    "# you can also get the same value just by subtracting means\n",
    "# i.e., taking the \"difference in differences\"\n",
    "pre_treat = ~df['time'].astype(bool) & df['group'].astype(bool)\n",
    "pst_treat = df['time'].astype(bool) & df['group'].astype(bool)\n",
    "pre_cntrl = ~df['time'].astype(bool) & ~df['group'].astype(bool)\n",
    "pst_cntrl = df['time'].astype(bool) & ~df['group'].astype(bool)\n",
    "col = 'tract_median_rent_sqft'\n",
    "(df.loc[pst_treat, col].mean() - df.loc[pre_treat, col].mean()) - (df.loc[pst_cntrl, col].mean() - df.loc[pre_cntrl, col].mean())"
   ]
  },
  {
   "cell_type": "markdown",
   "metadata": {},
   "source": [
    "## Regression with covariates\n",
    "\n",
    "The regression framework is useful because it lets you include covariates and calculate standard errors.\n",
    "\n",
    "Here we include covariates in the model: the DiD estimate changes slightly (and only very slightly, because the covariates are uncorrelated with the response)."
   ]
  },
  {
   "cell_type": "code",
   "execution_count": 9,
   "metadata": {},
   "outputs": [
    {
     "name": "stdout",
     "output_type": "stream",
     "text": [
      "                              OLS Regression Results                              \n",
      "==================================================================================\n",
      "Dep. Variable:     tract_median_rent_sqft   R-squared:                       0.725\n",
      "Model:                                OLS   Adj. R-squared:                  0.716\n",
      "Method:                     Least Squares   F-statistic:                     81.27\n",
      "Date:                    Thu, 18 Jun 2020   Prob (F-statistic):           2.08e-41\n",
      "Time:                            21:28:40   Log-Likelihood:                 36.309\n",
      "No. Observations:                     160   AIC:                            -60.62\n",
      "Df Residuals:                         154   BIC:                            -42.17\n",
      "Df Model:                               5                                         \n",
      "Covariance Type:                nonrobust                                         \n",
      "===================================================================================\n",
      "                      coef    std err          t      P>|t|      [0.025      0.975]\n",
      "-----------------------------------------------------------------------------------\n",
      "const               1.0333      0.115      9.000      0.000       0.806       1.260\n",
      "time                0.4081      0.044      9.214      0.000       0.321       0.496\n",
      "group               0.1681      0.044      3.794      0.000       0.081       0.256\n",
      "post_treatment      0.2551      0.063      4.080      0.000       0.132       0.379\n",
      "num_bedrooms        0.0339      0.055      0.619      0.537      -0.074       0.142\n",
      "dist_to_transit -1.345e-05   7.91e-05     -0.170      0.865      -0.000       0.000\n",
      "==============================================================================\n",
      "Omnibus:                        0.453   Durbin-Watson:                   2.173\n",
      "Prob(Omnibus):                  0.797   Jarque-Bera (JB):                0.598\n",
      "Skew:                          -0.045   Prob(JB):                        0.741\n",
      "Kurtosis:                       2.714   Cond. No.                     4.17e+03\n",
      "==============================================================================\n",
      "\n",
      "Warnings:\n",
      "[1] Standard Errors assume that the covariance matrix of the errors is correctly specified.\n",
      "[2] The condition number is large, 4.17e+03. This might indicate that there are\n",
      "strong multicollinearity or other numerical problems.\n"
     ]
    }
   ],
   "source": [
    "# choose a response and predictors\n",
    "response = 'tract_median_rent_sqft'\n",
    "covariates = ['num_bedrooms', 'dist_to_transit']\n",
    "predictors = ['time', 'group', 'post_treatment'] + covariates\n",
    "\n",
    "# filter full dataset to retain only these columns and only rows without nulls in these columns\n",
    "data = df[[response] +  predictors].dropna()\n",
    "\n",
    "# create design matrix and response vector\n",
    "X = data[predictors]\n",
    "y = data[response]\n",
    "\n",
    "# estimate a simple linear regression model with OLS, using statsmodels\n",
    "model = sm.OLS(y, sm.add_constant(X))\n",
    "result = model.fit()\n",
    "print(result.summary())"
   ]
  },
  {
   "cell_type": "code",
   "execution_count": null,
   "metadata": {},
   "outputs": [],
   "source": []
  }
 ],
 "metadata": {
  "kernelspec": {
   "display_name": "Python (ox)",
   "language": "python",
   "name": "ox"
  },
  "language_info": {
   "codemirror_mode": {
    "name": "ipython",
    "version": 3
   },
   "file_extension": ".py",
   "mimetype": "text/x-python",
   "name": "python",
   "nbconvert_exporter": "python",
   "pygments_lexer": "ipython3",
   "version": "3.8.3"
  }
 },
 "nbformat": 4,
 "nbformat_minor": 4
}
